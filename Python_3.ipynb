{
 "cells": [
  {
   "cell_type": "markdown",
   "metadata": {
    "_cell_guid": "3341e07f-7886-4f5f-aa67-363dfb09fd2e",
    "_uuid": "050c1ecb5860342d395f8f59628ba143226041ac"
   },
   "source": [
    "# **Python 3** \n",
    "*## __author__ = 'akgarhwal'*\n",
    "\n",
    "<h2>Index</h2>\n",
    "<ol>\n",
    "  <li><a href='#intro'>Introduction to Python_3</a></li>\n",
    "  <li><a href='#higher_order_function'>Higher Order Function</a></li>\n",
    "  <li><a href='#generator'>Generator</a></li>\n",
    "  \n",
    "  <!-- <li></li> -->\n",
    "</ol> \n",
    "\n"
   ]
  },
  {
   "cell_type": "markdown",
   "metadata": {},
   "source": [
    "<a id='intro'></a>"
   ]
  },
  {
   "cell_type": "markdown",
   "metadata": {
    "_cell_guid": "191158a6-0836-4457-9c93-e7eeb97f993d",
    "_kg_hide-input": true,
    "_kg_hide-output": true,
    "_uuid": "40ee03f6caa03a99752b51bcbad40e4d424f53cf"
   },
   "source": [
    "# Introduction to Python_3"
   ]
  },
  {
   "cell_type": "code",
   "execution_count": null,
   "metadata": {
    "_cell_guid": "ee837591-3d0c-4e44-ac97-fb8a22320bb3",
    "_uuid": "7b374af08e36be86c154419617443f749a7de22a",
    "collapsed": true
   },
   "outputs": [],
   "source": [
    "## Python 3 \n",
    "## print something\n",
    "print(\"welcome to Python3\")\n",
    "## explore some DS\n",
    "## int\n",
    "x = 5\n",
    "print('type of x : ',type(x))\n",
    "## float\n",
    "x = 5.1\n",
    "print('type of x : ',type(x))\n",
    "## string\n",
    "x = \"Hello\"\n",
    "print('type of x : ',type(x))\n",
    "## tuple\n",
    "x = (1,2)\n",
    "print('type of x : ',type(x))\n",
    "## dict\n",
    "x = {}\n",
    "print('type of x : ',type(x))\n",
    "## list\n",
    "x = []\n",
    "print('type of x : ',type(x))"
   ]
  },
  {
   "cell_type": "code",
   "execution_count": null,
   "metadata": {
    "_cell_guid": "3d75600b-4ae9-4de8-b78f-74d4996f4246",
    "_uuid": "424a8ed23db9c858c26861833450c5cb3da7e771",
    "collapsed": true,
    "scrolled": true
   },
   "outputs": [],
   "source": [
    "## Explore function of classes\n",
    "## declare list in python\n",
    "## empty list \n",
    "x = []\n",
    "## all function of list\n",
    "print(\"\\nList function : \" ,dir(x))\n",
    "## dict\n",
    "x = {}\n",
    "print(\"\\nDict Function : \",dir(x))\n",
    "## string\n",
    "x = \"python3\"\n",
    "print(\"\\nStr Function : \",dir(x))\n",
    "## tuple\n",
    "x = (1,2)\n",
    "print(\"\\nTuple Function : \",dir(x))"
   ]
  },
  {
   "cell_type": "code",
   "execution_count": null,
   "metadata": {
    "_cell_guid": "b096d9ac-918d-4563-b974-d50e38959fe0",
    "_uuid": "d8b8835090af8e147ab0e4d0ed3a82c6deff1104",
    "collapsed": true
   },
   "outputs": [],
   "source": [
    "## int\n",
    "x = 5\n",
    "print(\"\\nint Function : \",dir(x))\n",
    "## did you notice real and imag \n",
    "print(\"\\nX = \",x)\n",
    "print(\"Real(x) : \",x.real,\"\\timag(x): \",x.imag)\n",
    "## define complex number\n",
    "z = complex(1,2)\n",
    "print(\"\\nZ = \",z)\n",
    "print(\"Real(z) : \",z.real,\"\\timag(z) : \",z.imag)"
   ]
  },
  {
   "cell_type": "code",
   "execution_count": null,
   "metadata": {
    "_cell_guid": "8755813d-8539-48b3-86d1-1ae232cdf8f2",
    "_uuid": "a4676ce05638ed81b7c6814c2f0cbf70975b94f8",
    "collapsed": true
   },
   "outputs": [],
   "source": [
    "# float \n",
    "x = 5.5\n",
    "print(\"float Function : \",dir(x))\n",
    "print(\"X = \",x)\n",
    "print(\"is_integer : \",x.is_integer())\n",
    "x = 5.0\n",
    "print(\"X = \",x)\n",
    "print(\"is_integer : \",x.is_integer())"
   ]
  },
  {
   "cell_type": "code",
   "execution_count": null,
   "metadata": {
    "_cell_guid": "68a2cfff-7966-4d76-8f0f-4d29d5ee5d07",
    "_uuid": "4966c2d9eb26a4fc4e012e5e220581ec075c90ea",
    "collapsed": true
   },
   "outputs": [],
   "source": [
    "## More about tuple\n",
    "## 1. Tuple are immutable :( \n",
    "pos = (1,2)\n",
    "print(\"pos = \",pos)\n",
    "print(\"pos = \",pos[0],pos[1])\n",
    "## try to change [remove comment from pos[0] = 1 and try]\n",
    "## ERROR :->  \"TypeError: 'tuple' object does not support item assignment\"\n",
    "#pos[0] = 1\n",
    "\n",
    "## 2. String are immutable too :(\n",
    "# http://effbot.org/pyfaq/why-are-python-strings-immutable.htm\n",
    "# https://stackoverflow.com/questions/1538663/why-are-python-strings-and-tuples-are-made-immutable\n",
    "name = \"python\"\n",
    "print(\"name = \",name)\n",
    "##[remove comment from name[0] = 'P' and try]\n",
    "## ERROR :-> \"TypeError: 'str' object does not support item assignment\"\n",
    "#name[0] = 'P'\n",
    "\n",
    "## But this work fine \n",
    "name = \"Python-3\"\n",
    "print(name)\n",
    "\n",
    "## lets find out \n",
    "name = \"python\"\n",
    "print(\"\\nAddress of name at memory : \",id(name))\n",
    "name = \"Python-3\"\n",
    "print(\"Address of name at memory : \",id(name))\n",
    "## now you can see the address of name is changed So we assigned differnent address to name\n",
    "#\n",
    "#          name  ------> [python](12345.....34)\n",
    "#\n",
    "#<--------------------After secon assignment to name --------------------------->\n",
    "#\n",
    "#    [python](12345.....34)  -------> address to this location is lost and this memory will free by Garbage collector \n",
    "#\n",
    "#         name -----> [Python-3](123234......43)\n",
    "#\n",
    "## using id function you can easily found out what is changed or not.\n",
    "'''\n",
    "Ref : https://stackoverflow.com/questions/8056130/immutable-vs-mutable-types\n",
    "Thanks 'https://stackoverflow.com/users/5230702/anand-tripathi' for your answer\n",
    "\n",
    "Difference between Mutable and Immutable object\n",
    "Generic definition in python is:\n",
    "\n",
    "Mutable object: Object that can be changed after creating it.\n",
    "Immutable object: Object that cannot be changed after creating it.\n",
    "\n",
    "In python will try to change the value of immutable object it will give the new object.\n",
    "\n",
    "Mutable Objects\n",
    "Here is the list objects in python that are of mutable type:\n",
    "\n",
    "list\n",
    "Dictionary\n",
    "Set\n",
    "bytearray\n",
    "user defined classes\n",
    "\n",
    "\n",
    "Immutable Objects\n",
    "Here is the list objects in python that are of immutable type:\n",
    "\n",
    "int\n",
    "float\n",
    "decimal\n",
    "complex\n",
    "bool\n",
    "string\n",
    "tuple\n",
    "range\n",
    "frozenset\n",
    "bytes\n",
    "\n",
    "Some Unanswered Questions\n",
    "Questions: Is string a immutable type?\n",
    "Answer: yes it is, but can you explain this: Proof 1:\n",
    "\n",
    "a = \"Hello\"\n",
    "a +=\" World\"\n",
    "print a\n",
    "\n",
    "Output :\n",
    "\"Hello World\"\n",
    "\n",
    "In the above example string got once created as \"Hello\" finally changed to \"Hello World\". This implies that string is of mutable type. But it is not we can check its identity and check whether it is of mutable type or not.\n",
    "\n",
    "a = \"Hello\"\n",
    "identity_a = id(a)\n",
    "a += \" World\"\n",
    "new_identity_a = id(a)\n",
    "if identity_a != new_identity_a:\n",
    "    print \"String is Immutable\"\n",
    "    \n",
    "Output :\n",
    "String is Immutable\n",
    "Proof 2:\n",
    "\n",
    "a = \"Hello World\"\n",
    "a[0] = \"M\"\n",
    "Output\n",
    "\n",
    "TypeError 'str' object does not support item assignment\n",
    "Questions: Is Tuple a immutable type?\n",
    "Answer: yes it is Proof 1:\n",
    "\n",
    "tuple_a = (1,)\n",
    "tuple_a[0] = (2,)\n",
    "print a\n",
    "Output\n",
    "\n",
    "'tuple' object does not support item assignment\n",
    "'''"
   ]
  },
  {
   "cell_type": "code",
   "execution_count": null,
   "metadata": {
    "collapsed": true
   },
   "outputs": [],
   "source": []
  },
  {
   "cell_type": "code",
   "execution_count": null,
   "metadata": {
    "collapsed": true
   },
   "outputs": [],
   "source": []
  },
  {
   "cell_type": "code",
   "execution_count": null,
   "metadata": {
    "collapsed": true
   },
   "outputs": [],
   "source": []
  },
  {
   "cell_type": "markdown",
   "metadata": {},
   "source": [
    "<a id='higher_order_function'></a>"
   ]
  },
  {
   "cell_type": "markdown",
   "metadata": {
    "_cell_guid": "a8048cf0-e246-4405-877c-84afd139c17f",
    "_uuid": "599f3321e42efca3009dd60ce44f3df478778292",
    "collapsed": true
   },
   "source": [
    " # Higher Order Function "
   ]
  },
  {
   "cell_type": "code",
   "execution_count": 8,
   "metadata": {},
   "outputs": [
    {
     "name": "stdout",
     "output_type": "stream",
     "text": [
      "['Ak', 'Raju', 'Virat', 'Dhoni']\n",
      "['Hi Ak', 'Hi Raju', 'Hi Virat', 'Hi Dhoni']\n"
     ]
    }
   ],
   "source": [
    "## About \"map\"\n",
    "# One of the common things we do with list and\n",
    "#    other sequences is applying an operation to each item and collect the result.\n",
    "\n",
    "names = [\"Ak\",\"Raju\",\"Virat\",\"Dhoni\"]\n",
    "\n",
    "def say_hi(name):\n",
    "    return \"Hi \"+str(name)\n",
    "\n",
    "print(names)\n",
    "result = list(map(say_hi,names))\n",
    "print(result)"
   ]
  },
  {
   "cell_type": "code",
   "execution_count": 12,
   "metadata": {},
   "outputs": [
    {
     "name": "stdout",
     "output_type": "stream",
     "text": [
      "[0, 1, 2, 3, 4, 5, 6, 7, 8, 9]\n",
      "[0, 2, 4, 6, 8]\n"
     ]
    }
   ],
   "source": [
    "# filter\n",
    "# As the name suggests filter extracts each element in the sequence for which the function returns True.\n",
    "# [will discuss later]The reduce function is a little less obvious in its intent. \n",
    "# This function reduces a list to a single value by combining elements via a supplied function.\n",
    "\n",
    "numbers  = [x for x in range(10)]\n",
    "print(numbers)\n",
    "\n",
    "def even(number):\n",
    "    if (number & 1) :             # (number & 1) == (number%2)\n",
    "        return False\n",
    "    return True\n",
    "\n",
    "even_numbers = list(filter(even,numbers))\n",
    "print(even_numbers)"
   ]
  },
  {
   "cell_type": "code",
   "execution_count": null,
   "metadata": {
    "collapsed": true
   },
   "outputs": [],
   "source": []
  },
  {
   "cell_type": "markdown",
   "metadata": {},
   "source": [
    "<a id='generator'></a>"
   ]
  },
  {
   "cell_type": "markdown",
   "metadata": {},
   "source": [
    "# Generator"
   ]
  },
  {
   "cell_type": "code",
   "execution_count": 15,
   "metadata": {},
   "outputs": [
    {
     "name": "stdout",
     "output_type": "stream",
     "text": [
      "max in list: 9\n",
      "max in gen: 9\n",
      "<generator object genfunc at 0x7fe8d05c9fc0>\n",
      "Iterate over generator:\n",
      "0\n",
      "1\n",
      "2\n",
      "3\n",
      "4\n",
      "5\n",
      "6\n",
      "max in gen func: 3\n",
      "Iterate over second generator:\n",
      "0\n",
      "1\n",
      "2\n",
      "3\n",
      "4\n",
      "5\n",
      "6\n"
     ]
    }
   ],
   "source": [
    "# Ref : https://www.coursera.org/learn/principles-of-computing-2/lecture/4yD7B/generators \n",
    "\"\"\"\n",
    "Generator examples.\n",
    "\"\"\"\n",
    "\n",
    "# A list comprehension\n",
    "print(\"max in list:\", max([num * 2 - 3 for num in range(7)]))\n",
    "\n",
    "# A generator expression\n",
    "print(\"max in gen:\", max(num * 2 - 3 for num in range(7)))\n",
    "\n",
    "# A generator function\n",
    "def genfunc(limit):\n",
    "    num = 0\n",
    "    while num < limit:\n",
    "        yield num\n",
    "        num = num + 1\n",
    "\n",
    "print(genfunc(7))\n",
    "        \n",
    "# Iteration using a generator function\n",
    "print(\"Iterate over generator:\")\n",
    "for number in genfunc(7):\n",
    "    print(number)\n",
    "    \n",
    "# Pass to functions expecting a sequence\n",
    "print(\"max in gen func:\", max(genfunc(4)))\n",
    "\n",
    "# Use return to end generator\n",
    "def genfunc2(endfunc):\n",
    "    num = 0\n",
    "    while True:\n",
    "        if endfunc(num):\n",
    "            return\n",
    "        yield num\n",
    "        num = num + 1\n",
    "        \n",
    "def endfn(num):\n",
    "    if num == 7:\n",
    "        return True\n",
    "    return False\n",
    "\n",
    "print(\"Iterate over second generator:\")\n",
    "for number in genfunc2(endfn):\n",
    "    print(number)"
   ]
  },
  {
   "cell_type": "code",
   "execution_count": null,
   "metadata": {
    "collapsed": true
   },
   "outputs": [],
   "source": []
  }
 ],
 "metadata": {
  "kernelspec": {
   "display_name": "Python 3",
   "language": "python",
   "name": "python3"
  },
  "language_info": {
   "codemirror_mode": {
    "name": "ipython",
    "version": 3
   },
   "file_extension": ".py",
   "mimetype": "text/x-python",
   "name": "python",
   "nbconvert_exporter": "python",
   "pygments_lexer": "ipython3",
   "version": "3.6.3"
  }
 },
 "nbformat": 4,
 "nbformat_minor": 1
}
